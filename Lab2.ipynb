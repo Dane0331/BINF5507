{
 "cells": [
  {
   "cell_type": "markdown",
   "metadata": {},
   "source": [
    "# Lab 2: Data Loading, Cleaning, and Exploration\n",
    "\n",
    "In this lab, we will cover the following topics:\n",
    "1. Data loading and cleaning\n",
    "2. Handling missing data\n",
    "3. Feature engineering examples\n",
    "4. Visualizations/data exploration\n",
    "\n",
    "Each section includes basic implementation and questions for further exploration."
   ]
  },
  {
   "cell_type": "markdown",
   "metadata": {},
   "source": [
    "## 1. Data Loading and Cleaning\n",
    "\n",
    "We will start by loading and cleaning a dataset. We will also explore different techniques for data cleaning."
   ]
  },
  {
   "cell_type": "code",
   "execution_count": 2,
   "metadata": {
    "ExecuteTime": {
     "end_time": "2025-01-15T23:34:58.531002Z",
     "start_time": "2025-01-15T23:34:56.476529Z"
    }
   },
   "outputs": [
    {
     "name": "stdout",
     "output_type": "stream",
     "text": [
      "<class 'pandas.core.frame.DataFrame'>\n",
      "RangeIndex: 1158 entries, 0 to 1157\n",
      "Data columns (total 17 columns):\n",
      " #   Column       Non-Null Count  Dtype  \n",
      "---  ------       --------------  -----  \n",
      " 0   survived     1158 non-null   int64  \n",
      " 1   deck         273 non-null    object \n",
      " 2   embarked     1155 non-null   object \n",
      " 3   pclass       1051 non-null   float64\n",
      " 4   embark_town  1155 non-null   object \n",
      " 5   sex          1158 non-null   object \n",
      " 6   adult_male   1158 non-null   bool   \n",
      " 7   who          1158 non-null   object \n",
      " 8   wspd         929 non-null    float64\n",
      " 9   lfwa         929 non-null    float64\n",
      " 10  class        1158 non-null   object \n",
      " 11  tprc         1158 non-null   float64\n",
      " 12  sibsp        1044 non-null   float64\n",
      " 13  age          829 non-null    float64\n",
      " 14  alone        1158 non-null   bool   \n",
      " 15  fare         1036 non-null   float64\n",
      " 16  parch        1042 non-null   float64\n",
      "dtypes: bool(2), float64(8), int64(1), object(6)\n",
      "memory usage: 138.1+ KB\n",
      "Accuracy: 0.7419354838709677\n"
     ]
    }
   ],
   "source": [
    "import functionals as f\n",
    "import pandas as pd\n",
    "import numpy as np\n",
    "\n",
    "# Load the dataset\n",
    "path_to_file = 'messy_data.csv'\n",
    "data = pd.read_csv(path_to_file)\n",
    "\n",
    "# Display dataset information\n",
    "data.head()\n",
    "data.info()\n",
    "data.describe()\n",
    "\n",
    "# Run the simple model\n",
    "f.simple_model(data)"
   ]
  },
  {
   "cell_type": "markdown",
   "metadata": {},
   "source": [
    "## Data Cleaning\n",
    "\n",
    "We will clean the dataset by removing duplicates, fixing inconsistent entries and removing outliers."
   ]
  },
  {
   "cell_type": "code",
   "execution_count": 10,
   "metadata": {},
   "outputs": [
    {
     "name": "stdout",
     "output_type": "stream",
     "text": [
      "<class 'pandas.core.frame.DataFrame'>\n",
      "RangeIndex: 96 entries, 0 to 95\n",
      "Data columns (total 16 columns):\n",
      " #   Column       Non-Null Count  Dtype  \n",
      "---  ------       --------------  -----  \n",
      " 0   survived     96 non-null     int64  \n",
      " 1   embarked     96 non-null     object \n",
      " 2   pclass       96 non-null     float64\n",
      " 3   embark_town  96 non-null     object \n",
      " 4   sex          96 non-null     object \n",
      " 5   adult_male   96 non-null     bool   \n",
      " 6   who          96 non-null     object \n",
      " 7   wspd         96 non-null     float64\n",
      " 8   lfwa         96 non-null     float64\n",
      " 9   class        96 non-null     object \n",
      " 10  tprc         96 non-null     float64\n",
      " 11  sibsp        96 non-null     float64\n",
      " 12  age          96 non-null     float64\n",
      " 13  alone        96 non-null     bool   \n",
      " 14  fare         96 non-null     float64\n",
      " 15  parch        96 non-null     float64\n",
      "dtypes: bool(2), float64(8), int64(1), object(5)\n",
      "memory usage: 10.8+ KB\n",
      "Accuracy: 0.7\n"
     ]
    }
   ],
   "source": [
    "from scipy import stats\n",
    "\n",
    "# Remove duplicates\n",
    "data_no_duplicates = data.copy().drop_duplicates()\n",
    "\n",
    "# Fix inconsistent entries\n",
    "data_format_fixed = data_no_duplicates.copy()\n",
    "data_format_fixed['sex'] = data_format_fixed['sex'].apply(lambda x: 'female' if 'F' in x or 'f' in x else 'male')\n",
    "\n",
    "data_cleaned = data_format_fixed.copy()\n",
    "\n",
    "# # Check for outliers - if they exist, remove them\n",
    "# numerical_columns = data_cleaned.select_dtypes(include=['float64', 'int64']).columns\n",
    "\n",
    "# # Dataset with no duplicates, fixed format, missing values and outlier removed (if they exist)\n",
    "# drop_columns = ['deck', '']\n",
    "# data_final = data_no_duplicates.drop(columns=drop_columns, errors='ignore')\n",
    "# andle missing values\n",
    "# Drop columns with too many missing values\n",
    "threshold = 0.7  # Keeping columns with at least 70% non-null values\n",
    "data_format_fixed = data_format_fixed.loc[:, data_format_fixed.notnull().mean() >= threshold]\n",
    "\n",
    "# Fill missing values for numerical columns with the median\n",
    "numerical_columns = data_format_fixed.select_dtypes(include=['float64', 'int64']).columns\n",
    "for col in numerical_columns:\n",
    "    data_format_fixed[col] = data_format_fixed[col].fillna(data_format_fixed[col].median())\n",
    "\n",
    "# Fill missing values for categorical columns with the mode\n",
    "categorical_columns = data_format_fixed.select_dtypes(include=['object']).columns\n",
    "for col in categorical_columns:\n",
    "    data_format_fixed[col] = data_format_fixed[col].fillna(data_format_fixed[col].mode()[0])\n",
    "\n",
    "# 4. Remove outliers using Z-score\n",
    "data_cleaned = data_format_fixed.copy()\n",
    "for col in numerical_columns:\n",
    "    z_scores = np.abs(stats.zscore(data_cleaned[col]))\n",
    "    data_cleaned = data_cleaned[(z_scores < 3) | (pd.isnull(z_scores))]\n",
    "\n",
    "# 5. Drop unnecessary columns\n",
    "drop_columns = ['deck']  # Add any columns you want to drop\n",
    "data_cleaned = data_cleaned.drop(columns=drop_columns, errors='ignore')\n",
    "\n",
    "# Final cleaned dataset\n",
    "data_final = data_cleaned.reset_index(drop=True)\n",
    "\n",
    "# Display dataset summary after cleaning\n",
    "data_final.info()\n",
    "\n",
    "f.simple_model(data_final)"
   ]
  },
  {
   "cell_type": "markdown",
   "metadata": {},
   "source": [
    "### Questions for Exploration\n",
    "\n",
    "1. How does the following affect model performance?\n",
    "    * removing duplicates\n",
    "    * fixing inconsistencies  \n",
    "2. What other inconsistencies can you find and fix in the dataset?\n",
    "3. How does the choice of dataset affect the data cleaning process?"
   ]
  },
  {
   "cell_type": "markdown",
   "metadata": {},
   "source": [
    "## 2. Handling Missing Data\n",
    "\n",
    "We will handle missing data by using different techniques such as imputation and deletion. We will also explore the impact of these techniques on the dataset."
   ]
  },
  {
   "cell_type": "code",
   "execution_count": 15,
   "metadata": {},
   "outputs": [
    {
     "name": "stdout",
     "output_type": "stream",
     "text": [
      "Accuracy: 0.7419354838709677\n"
     ]
    }
   ],
   "source": [
    "# Identify missing values\n",
    "# missing_data = data.isnull().sum()\n",
    "# print(missing_data)\n",
    "\n",
    "# # Impute missing values\n",
    "# numerical_col_name = []\n",
    "# categorical_col_name = []\n",
    "# data['age'].fillna(data['age'].mean())\n",
    "# data['embarked'].fillna(data['embarked'].mode()[0], inplace=True)\n",
    "\n",
    "# # Drop rows with missing values\n",
    "# data.dropna()\n",
    "\n",
    "# # Display the dataset after handling missing data\n",
    "# data.info()\n",
    "\n",
    "# Handle missing values using different techniques\n",
    "\n",
    "# (a) Impute numerical columns using the mean\n",
    "if 'age' in data.columns:\n",
    "    data['age'] = data['age'].fillna(data['age'].mean())  # Impute with mean\n",
    "\n",
    "# (b) Impute categorical columns using the mode\n",
    "if 'embarked' in data.columns:\n",
    "    data['embarked'] = data['embarked'].fillna(data['embarked'].mode()[0])  # Impute with mode\n",
    "\n",
    "# (c) Drop rows with missing values in specific columns (if necessary)\n",
    "# Example: Drop rows where both 'age' and 'fare' are missing\n",
    "data_dropped = data.dropna(subset=['age', 'fare'])\n",
    "\n",
    "# (d) Drop rows with any missing values\n",
    "data_all_dropped = data.dropna()\n",
    "\n",
    "f.simple_model(data_dropped)"
   ]
  },
  {
   "cell_type": "markdown",
   "metadata": {},
   "source": [
    "### Questions for Exploration\n",
    "\n",
    "1. How does the following affect model performance:\n",
    "    * imputation \n",
    "    * dropping rows with missing values\n",
    "2. What happens to the model performance if you use different imputation techniques (e.g., median, mode)?\n",
    "3. How does the choice of dataset affect the handling of missing data?"
   ]
  },
  {
   "cell_type": "markdown",
   "metadata": {},
   "source": [
    "## 3. Feature Engineering Examples\n",
    "\n",
    "Next, we will create new features from the existing ones. We will also explore different techniques for feature engineering."
   ]
  },
  {
   "cell_type": "code",
   "execution_count": 4,
   "metadata": {},
   "outputs": [],
   "source": [
    "# Create new features\n",
    "data_new_features = data.copy()\n",
    "data_new_features['family_size'] = data_new_features['sibsp'] + data_new_features['parch'] + 1\n",
    "data_new_features['is_alone'] = (data_new_features['family_size'] == 1).astype(int)\n",
    "\n",
    "# Any other features you can think of?\n",
    "\n",
    "# Scale the numerical features\n",
    "# <insert code here>"
   ]
  },
  {
   "cell_type": "markdown",
   "metadata": {},
   "source": [
    "### Questions for Exploration\n",
    "\n",
    "1. How do the new features affect model performance?\n",
    "2. What other features can you create from the existing ones?\n",
    "3. How does feature scaling (e.g., standardization, normalization) affect model performance? (Keep in mind that the data should be scaled **after** data splitting; this will require modifying the simple_model method in functionals.)"
   ]
  },
  {
   "cell_type": "markdown",
   "metadata": {},
   "source": [
    "## 4. Visualizations/Data Exploration\n",
    "\n",
    "We will visualize and explore the dataset using different techniques. We will also explore the impact of these visualizations on data interpretation."
   ]
  },
  {
   "cell_type": "code",
   "execution_count": 5,
   "metadata": {},
   "outputs": [
    {
     "data": {
      "image/png": "[encoded data removed]",
      "text/plain": [
       "<Figure size 1000x600 with 1 Axes>"
      ]
     },
     "metadata": {},
     "output_type": "display_data"
    },
    {
     "data": {
      "image/png": "[encoded data removed]",
      "text/plain": [
       "<Figure size 1000x600 with 1 Axes>"
      ]
     },
     "metadata": {},
     "output_type": "display_data"
    },
    {
     "ename": "KeyError",
     "evalue": "\"['family_size'] not in index\"",
     "output_type": "error",
     "traceback": [
      "\u001b[1;31m---------------------------------------------------------------------------\u001b[0m",
      "\u001b[1;31mKeyError\u001b[0m                                  Traceback (most recent call last)",
      "Cell \u001b[1;32mIn[5], line 21\u001b[0m\n\u001b[0;32m     18\u001b[0m plt\u001b[38;5;241m.\u001b[39mshow()\n\u001b[0;32m     20\u001b[0m \u001b[38;5;66;03m# Pair plot of numerical features\u001b[39;00m\n\u001b[1;32m---> 21\u001b[0m sns\u001b[38;5;241m.\u001b[39mpairplot(\u001b[43mdata\u001b[49m\u001b[43m[\u001b[49m\u001b[43m[\u001b[49m\u001b[38;5;124;43m'\u001b[39;49m\u001b[38;5;124;43mage\u001b[39;49m\u001b[38;5;124;43m'\u001b[39;49m\u001b[43m,\u001b[49m\u001b[43m \u001b[49m\u001b[38;5;124;43m'\u001b[39;49m\u001b[38;5;124;43mfare\u001b[39;49m\u001b[38;5;124;43m'\u001b[39;49m\u001b[43m,\u001b[49m\u001b[43m \u001b[49m\u001b[38;5;124;43m'\u001b[39;49m\u001b[38;5;124;43mfamily_size\u001b[39;49m\u001b[38;5;124;43m'\u001b[39;49m\u001b[43m,\u001b[49m\u001b[43m \u001b[49m\u001b[38;5;124;43m'\u001b[39;49m\u001b[38;5;124;43msurvived\u001b[39;49m\u001b[38;5;124;43m'\u001b[39;49m\u001b[43m]\u001b[49m\u001b[43m]\u001b[49m, hue\u001b[38;5;241m=\u001b[39m\u001b[38;5;124m'\u001b[39m\u001b[38;5;124msurvived\u001b[39m\u001b[38;5;124m'\u001b[39m)\n\u001b[0;32m     22\u001b[0m plt\u001b[38;5;241m.\u001b[39mshow()\n",
      "File \u001b[1;32md:\\Desktop\\BINF5507\\.pixi\\envs\\default\\lib\\site-packages\\pandas\\core\\frame.py:4108\u001b[0m, in \u001b[0;36mDataFrame.__getitem__\u001b[1;34m(self, key)\u001b[0m\n\u001b[0;32m   4106\u001b[0m     \u001b[38;5;28;01mif\u001b[39;00m is_iterator(key):\n\u001b[0;32m   4107\u001b[0m         key \u001b[38;5;241m=\u001b[39m \u001b[38;5;28mlist\u001b[39m(key)\n\u001b[1;32m-> 4108\u001b[0m     indexer \u001b[38;5;241m=\u001b[39m \u001b[38;5;28;43mself\u001b[39;49m\u001b[38;5;241;43m.\u001b[39;49m\u001b[43mcolumns\u001b[49m\u001b[38;5;241;43m.\u001b[39;49m\u001b[43m_get_indexer_strict\u001b[49m\u001b[43m(\u001b[49m\u001b[43mkey\u001b[49m\u001b[43m,\u001b[49m\u001b[43m \u001b[49m\u001b[38;5;124;43m\"\u001b[39;49m\u001b[38;5;124;43mcolumns\u001b[39;49m\u001b[38;5;124;43m\"\u001b[39;49m\u001b[43m)\u001b[49m[\u001b[38;5;241m1\u001b[39m]\n\u001b[0;32m   4110\u001b[0m \u001b[38;5;66;03m# take() does not accept boolean indexers\u001b[39;00m\n\u001b[0;32m   4111\u001b[0m \u001b[38;5;28;01mif\u001b[39;00m \u001b[38;5;28mgetattr\u001b[39m(indexer, \u001b[38;5;124m\"\u001b[39m\u001b[38;5;124mdtype\u001b[39m\u001b[38;5;124m\"\u001b[39m, \u001b[38;5;28;01mNone\u001b[39;00m) \u001b[38;5;241m==\u001b[39m \u001b[38;5;28mbool\u001b[39m:\n",
      "File \u001b[1;32md:\\Desktop\\BINF5507\\.pixi\\envs\\default\\lib\\site-packages\\pandas\\core\\indexes\\base.py:6200\u001b[0m, in \u001b[0;36mIndex._get_indexer_strict\u001b[1;34m(self, key, axis_name)\u001b[0m\n\u001b[0;32m   6197\u001b[0m \u001b[38;5;28;01melse\u001b[39;00m:\n\u001b[0;32m   6198\u001b[0m     keyarr, indexer, new_indexer \u001b[38;5;241m=\u001b[39m \u001b[38;5;28mself\u001b[39m\u001b[38;5;241m.\u001b[39m_reindex_non_unique(keyarr)\n\u001b[1;32m-> 6200\u001b[0m \u001b[38;5;28;43mself\u001b[39;49m\u001b[38;5;241;43m.\u001b[39;49m\u001b[43m_raise_if_missing\u001b[49m\u001b[43m(\u001b[49m\u001b[43mkeyarr\u001b[49m\u001b[43m,\u001b[49m\u001b[43m \u001b[49m\u001b[43mindexer\u001b[49m\u001b[43m,\u001b[49m\u001b[43m \u001b[49m\u001b[43maxis_name\u001b[49m\u001b[43m)\u001b[49m\n\u001b[0;32m   6202\u001b[0m keyarr \u001b[38;5;241m=\u001b[39m \u001b[38;5;28mself\u001b[39m\u001b[38;5;241m.\u001b[39mtake(indexer)\n\u001b[0;32m   6203\u001b[0m \u001b[38;5;28;01mif\u001b[39;00m \u001b[38;5;28misinstance\u001b[39m(key, Index):\n\u001b[0;32m   6204\u001b[0m     \u001b[38;5;66;03m# GH 42790 - Preserve name from an Index\u001b[39;00m\n",
      "File \u001b[1;32md:\\Desktop\\BINF5507\\.pixi\\envs\\default\\lib\\site-packages\\pandas\\core\\indexes\\base.py:6252\u001b[0m, in \u001b[0;36mIndex._raise_if_missing\u001b[1;34m(self, key, indexer, axis_name)\u001b[0m\n\u001b[0;32m   6249\u001b[0m     \u001b[38;5;28;01mraise\u001b[39;00m \u001b[38;5;167;01mKeyError\u001b[39;00m(\u001b[38;5;124mf\u001b[39m\u001b[38;5;124m\"\u001b[39m\u001b[38;5;124mNone of [\u001b[39m\u001b[38;5;132;01m{\u001b[39;00mkey\u001b[38;5;132;01m}\u001b[39;00m\u001b[38;5;124m] are in the [\u001b[39m\u001b[38;5;132;01m{\u001b[39;00maxis_name\u001b[38;5;132;01m}\u001b[39;00m\u001b[38;5;124m]\u001b[39m\u001b[38;5;124m\"\u001b[39m)\n\u001b[0;32m   6251\u001b[0m not_found \u001b[38;5;241m=\u001b[39m \u001b[38;5;28mlist\u001b[39m(ensure_index(key)[missing_mask\u001b[38;5;241m.\u001b[39mnonzero()[\u001b[38;5;241m0\u001b[39m]]\u001b[38;5;241m.\u001b[39munique())\n\u001b[1;32m-> 6252\u001b[0m \u001b[38;5;28;01mraise\u001b[39;00m \u001b[38;5;167;01mKeyError\u001b[39;00m(\u001b[38;5;124mf\u001b[39m\u001b[38;5;124m\"\u001b[39m\u001b[38;5;132;01m{\u001b[39;00mnot_found\u001b[38;5;132;01m}\u001b[39;00m\u001b[38;5;124m not in index\u001b[39m\u001b[38;5;124m\"\u001b[39m)\n",
      "\u001b[1;31mKeyError\u001b[0m: \"['family_size'] not in index\""
     ]
    }
   ],
   "source": [
    "import matplotlib.pyplot as plt\n",
    "import seaborn as sns\n",
    "\n",
    "# Histogram of age\n",
    "plt.figure(figsize=(10, 6))\n",
    "sns.histplot(data['age'], bins=30, kde=True)\n",
    "plt.title('Age Distribution')\n",
    "plt.xlabel('Age')\n",
    "plt.ylabel('Frequency')\n",
    "plt.show()\n",
    "\n",
    "# Bar plot of survival by sex\n",
    "plt.figure(figsize=(10, 6))\n",
    "sns.barplot(x='sex', y='survived', data=data)\n",
    "plt.title('Survival by Sex')\n",
    "plt.xlabel('Sex')\n",
    "plt.ylabel('Survival Rate')\n",
    "plt.show()\n",
    "\n",
    "# Pair plot of numerical features\n",
    "sns.pairplot(data[['age', 'fare', 'family_size', 'survived']], hue='survived')\n",
    "plt.show()\n"
   ]
  },
  {
   "cell_type": "markdown",
   "metadata": {},
   "source": [
    "### Questions for Exploration\n",
    "\n",
    "1. How do the visualizations help in understanding the dataset?\n",
    "2. What other visualizations can you create to explore the dataset?\n",
    "3. How does the choice of visualization technique affect the interpretation of the data?"
   ]
  },
  {
   "cell_type": "markdown",
   "metadata": {},
   "source": [
    "## Extensions\n",
    "\n",
    "Explore other data preprocessing techniques such as:\n",
    "- Encoding categorical variables (e.g., one-hot encoding, label encoding) - i.e., if you modify the simple_model method to only include numerical features, omitting the categorical variables\n",
    "- Feature selection techniques (i.e., assessing inter-feature correlation and removing )\n",
    "\n",
    "Compare their impact on the dataset and the performance of downstream machine learning models. \n",
    "Can you identify any sources of bias in the dataset?"
   ]
  }
 ],
 "metadata": {
  "kernelspec": {
   "display_name": "default",
   "language": "python",
   "name": "python3"
  },
  "language_info": {
   "codemirror_mode": {
    "name": "ipython",
    "version": 3
   },
   "file_extension": ".py",
   "mimetype": "text/x-python",
   "name": "python",
   "nbconvert_exporter": "python",
   "pygments_lexer": "ipython3",
   "version": "3.9.21"
  }
 },
 "nbformat": 4,
 "nbformat_minor": 4
}
